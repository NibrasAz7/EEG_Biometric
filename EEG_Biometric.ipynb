{
  "nbformat": 4,
  "nbformat_minor": 0,
  "metadata": {
    "colab": {
      "name": "EEG Biometric.ipynb",
      "provenance": [],
      "authorship_tag": "ABX9TyOcp7jiX/n/ytiVWtnCJvQn",
      "include_colab_link": true
    },
    "kernelspec": {
      "name": "python3",
      "display_name": "Python 3"
    },
    "language_info": {
      "name": "python"
    }
  },
  "cells": [
    {
      "cell_type": "markdown",
      "metadata": {
        "id": "view-in-github",
        "colab_type": "text"
      },
      "source": [
        "<a href=\"https://colab.research.google.com/github/NibrasAz7/EEG_Biometric/blob/main/EEG_Biometric.ipynb\" target=\"_parent\"><img src=\"https://colab.research.google.com/assets/colab-badge.svg\" alt=\"Open In Colab\"/></a>"
      ]
    },
    {
      "cell_type": "code",
      "metadata": {
        "id": "Sbf0uNesV2tO"
      },
      "source": [
        "import pandas as pd\n",
        "import numpy as np\n",
        "from numpy import mean\n",
        "from numpy import std\n",
        "import matplotlib.pyplot as plt\n",
        "import scipy.io\n",
        "import scipy.signal\n",
        "from scipy.signal import butter,filtfilt,find_peaks,find_peaks, resample\n",
        "from scipy import stats\n",
        "from scipy.stats import skew, kurtosis\n",
        "from sklearn import preprocessing\n",
        "from sklearn.model_selection import train_test_split\n",
        "from sklearn.metrics import classification_report,confusion_matrix,accuracy_score\n",
        "from sklearn.metrics import roc_curve,auc, precision_score,recall_score,f1_score\n",
        "from sklearn.feature_selection import SelectKBest, chi2, f_classif\n",
        "from sklearn.ensemble import ExtraTreesClassifier\n",
        "from keras import layers, models, regularizers\n",
        "import mne\n",
        "from mne import find_events, fit_dipole\n",
        "from autoreject import AutoReject\n",
        "import seaborn as sns\n",
        "import sys\n",
        "import statistics as st\n",
        "from keras.utils import to_categorical\n",
        "import pywt\n",
        "import sys\n",
        "from entropy import *\n",
        "import time\n",
        "from sklearn.neighbors import KNeighborsClassifier\n",
        "from xgboost import XGBClassifier\n",
        "from sklearn.linear_model import LogisticRegression\n"
      ],
      "execution_count": null,
      "outputs": []
    }
  ]
}