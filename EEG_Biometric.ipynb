{
  "nbformat": 4,
  "nbformat_minor": 0,
  "metadata": {
    "colab": {
      "name": "EEG Biometric.ipynb",
      "provenance": [],
      "authorship_tag": "ABX9TyPHA6BAaiteozzckkqHYUbW",
      "include_colab_link": true
    },
    "kernelspec": {
      "name": "python3",
      "display_name": "Python 3"
    },
    "language_info": {
      "name": "python"
    }
  },
  "cells": [
    {
      "cell_type": "markdown",
      "metadata": {
        "id": "view-in-github",
        "colab_type": "text"
      },
      "source": [
        "<a href=\"https://colab.research.google.com/github/NibrasAz7/EEG_Biometric/blob/main/EEG_Biometric.ipynb\" target=\"_parent\"><img src=\"https://colab.research.google.com/assets/colab-badge.svg\" alt=\"Open In Colab\"/></a>"
      ]
    },
    {
      "cell_type": "markdown",
      "metadata": {
        "id": "kNJattpDau8c"
      },
      "source": [
        "## **Install Required Libraries**"
      ]
    },
    {
      "cell_type": "code",
      "metadata": {
        "id": "Wo1g7HEuWNe3"
      },
      "source": [
        "pip install mne"
      ],
      "execution_count": null,
      "outputs": []
    },
    {
      "cell_type": "code",
      "metadata": {
        "id": "L6OR-RbUWixY"
      },
      "source": [
        "pip install autoreject"
      ],
      "execution_count": null,
      "outputs": []
    },
    {
      "cell_type": "code",
      "metadata": {
        "id": "l3DuWG-fWw3n"
      },
      "source": [
        "!git clone https://github.com/raphaelvallat/entropy.git entropy/\n",
        "%cd entropy/\n",
        "!pip install -r requirements.txt\n",
        "!python setup.py develop"
      ],
      "execution_count": null,
      "outputs": []
    },
    {
      "cell_type": "code",
      "metadata": {
        "id": "dLlyd1erYWeJ"
      },
      "source": [
        "pip install keras"
      ],
      "execution_count": null,
      "outputs": []
    },
    {
      "cell_type": "markdown",
      "metadata": {
        "id": "i2kJraE5a9Zu"
      },
      "source": [
        "## **Import Libraries**"
      ]
    },
    {
      "cell_type": "code",
      "metadata": {
        "colab": {
          "base_uri": "https://localhost:8080/"
        },
        "id": "Sbf0uNesV2tO",
        "outputId": "76132a8b-842a-4833-c5d2-db005a8e4d2b"
      },
      "source": [
        "\n",
        "import pandas as pd\n",
        "\n",
        "import numpy as np\n",
        "from numpy import mean, std\n",
        "\n",
        "import matplotlib.pyplot as plt\n",
        "\n",
        "import scipy.io, scipy.signal\n",
        "from scipy.signal import butter,filtfilt,find_peaks,find_peaks, resample\n",
        "from scipy.stats import skew, kurtosis\n",
        "\n",
        "from sklearn import preprocessing\n",
        "from sklearn.model_selection import train_test_split\n",
        "from sklearn.metrics import classification_report,confusion_matrix,accuracy_score, roc_curve,auc, precision_score,recall_score,f1_score\n",
        "from sklearn.feature_selection import SelectKBest, chi2, f_classif\n",
        "from sklearn.ensemble import ExtraTreesClassifier\n",
        "from sklearn.neighbors import KNeighborsClassifier\n",
        "from keras import layers, models, regularizers\n",
        "from sklearn.linear_model import LogisticRegression\n",
        "\n",
        "from xgboost import XGBClassifier\n",
        "import mne\n",
        "from autoreject import AutoReject\n",
        "import seaborn as sns\n",
        "import sys\n",
        "import statistics as st\n",
        "from tensorflow.keras.utils import to_categorical\n",
        "import pywt\n",
        "import sys\n",
        "from entropy import *\n",
        "import time\n",
        "\n",
        "print(\"All libraries are exported successfully\")"
      ],
      "execution_count": 39,
      "outputs": [
        {
          "output_type": "stream",
          "text": [
            "All libraries are exported successfully\n"
          ],
          "name": "stdout"
        }
      ]
    },
    {
      "cell_type": "code",
      "metadata": {
        "id": "LG9JDZzJanlR"
      },
      "source": [
        ""
      ],
      "execution_count": null,
      "outputs": []
    }
  ]
}